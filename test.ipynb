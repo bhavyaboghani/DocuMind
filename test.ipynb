{
 "cells": [
  {
   "cell_type": "code",
   "execution_count": 1,
   "id": "6be4787a",
   "metadata": {},
   "outputs": [
    {
     "name": "stdout",
     "output_type": "stream",
     "text": [
      "Requirement already satisfied: llama-index in e:\\llama_index\\venv\\lib\\site-packages (0.12.44)\n",
      "Requirement already satisfied: sentence-transformers in e:\\llama_index\\venv\\lib\\site-packages (4.1.0)\n",
      "Requirement already satisfied: transformers in e:\\llama_index\\venv\\lib\\site-packages (4.53.0)\n",
      "Collecting cohere\n",
      "  Downloading cohere-5.15.0-py3-none-any.whl (259 kB)\n",
      "     -------------------------------------- 259.5/259.5 kB 1.3 MB/s eta 0:00:00\n",
      "Collecting llama-index-llms-cohere\n",
      "  Downloading llama_index_llms_cohere-0.5.0-py3-none-any.whl (12 kB)\n",
      "Collecting llama-index-embeddings-cohere\n",
      "  Downloading llama_index_embeddings_cohere-0.5.1-py3-none-any.whl (5.8 kB)\n",
      "Requirement already satisfied: llama-index-agent-openai<0.5,>=0.4.0 in e:\\llama_index\\venv\\lib\\site-packages (from llama-index) (0.4.11)\n",
      "Requirement already satisfied: llama-index-cli<0.5,>=0.4.2 in e:\\llama_index\\venv\\lib\\site-packages (from llama-index) (0.4.3)\n",
      "Requirement already satisfied: llama-index-core<0.13,>=0.12.44 in e:\\llama_index\\venv\\lib\\site-packages (from llama-index) (0.12.44)\n",
      "Requirement already satisfied: llama-index-embeddings-openai<0.4,>=0.3.0 in e:\\llama_index\\venv\\lib\\site-packages (from llama-index) (0.3.1)\n",
      "Requirement already satisfied: llama-index-indices-managed-llama-cloud>=0.4.0 in e:\\llama_index\\venv\\lib\\site-packages (from llama-index) (0.7.7)\n",
      "Requirement already satisfied: llama-index-llms-openai<0.5,>=0.4.0 in e:\\llama_index\\venv\\lib\\site-packages (from llama-index) (0.4.7)\n",
      "Requirement already satisfied: llama-index-multi-modal-llms-openai<0.6,>=0.5.0 in e:\\llama_index\\venv\\lib\\site-packages (from llama-index) (0.5.1)\n",
      "Requirement already satisfied: llama-index-program-openai<0.4,>=0.3.0 in e:\\llama_index\\venv\\lib\\site-packages (from llama-index) (0.3.2)\n",
      "Requirement already satisfied: llama-index-question-gen-openai<0.4,>=0.3.0 in e:\\llama_index\\venv\\lib\\site-packages (from llama-index) (0.3.1)\n",
      "Requirement already satisfied: llama-index-readers-file<0.5,>=0.4.0 in e:\\llama_index\\venv\\lib\\site-packages (from llama-index) (0.4.9)\n",
      "Requirement already satisfied: llama-index-readers-llama-parse>=0.4.0 in e:\\llama_index\\venv\\lib\\site-packages (from llama-index) (0.4.0)\n",
      "Requirement already satisfied: nltk>3.8.1 in e:\\llama_index\\venv\\lib\\site-packages (from llama-index) (3.9.1)\n",
      "Requirement already satisfied: tqdm in e:\\llama_index\\venv\\lib\\site-packages (from sentence-transformers) (4.67.1)\n",
      "Requirement already satisfied: torch>=1.11.0 in e:\\llama_index\\venv\\lib\\site-packages (from sentence-transformers) (2.7.1)\n",
      "Requirement already satisfied: scikit-learn in e:\\llama_index\\venv\\lib\\site-packages (from sentence-transformers) (1.7.0)\n",
      "Requirement already satisfied: scipy in e:\\llama_index\\venv\\lib\\site-packages (from sentence-transformers) (1.16.0)\n",
      "Requirement already satisfied: huggingface-hub>=0.20.0 in e:\\llama_index\\venv\\lib\\site-packages (from sentence-transformers) (0.33.1)\n",
      "Requirement already satisfied: Pillow in e:\\llama_index\\venv\\lib\\site-packages (from sentence-transformers) (11.2.1)\n",
      "Requirement already satisfied: typing_extensions>=4.5.0 in e:\\llama_index\\venv\\lib\\site-packages (from sentence-transformers) (4.14.0)\n",
      "Requirement already satisfied: filelock in e:\\llama_index\\venv\\lib\\site-packages (from transformers) (3.18.0)\n",
      "Requirement already satisfied: numpy>=1.17 in e:\\llama_index\\venv\\lib\\site-packages (from transformers) (2.3.1)\n",
      "Requirement already satisfied: packaging>=20.0 in e:\\llama_index\\venv\\lib\\site-packages (from transformers) (24.2)\n",
      "Requirement already satisfied: pyyaml>=5.1 in e:\\llama_index\\venv\\lib\\site-packages (from transformers) (6.0.2)\n",
      "Requirement already satisfied: regex!=2019.12.17 in e:\\llama_index\\venv\\lib\\site-packages (from transformers) (2024.11.6)\n",
      "Requirement already satisfied: requests in e:\\llama_index\\venv\\lib\\site-packages (from transformers) (2.32.4)\n",
      "Requirement already satisfied: tokenizers<0.22,>=0.21 in e:\\llama_index\\venv\\lib\\site-packages (from transformers) (0.21.2)\n",
      "Requirement already satisfied: safetensors>=0.4.3 in e:\\llama_index\\venv\\lib\\site-packages (from transformers) (0.5.3)\n",
      "Collecting fastavro<2.0.0,>=1.9.4\n",
      "  Downloading fastavro-1.11.1-cp311-cp311-win_amd64.whl (451 kB)\n",
      "     -------------------------------------- 451.6/451.6 kB 2.8 MB/s eta 0:00:00\n",
      "Requirement already satisfied: httpx>=0.21.2 in e:\\llama_index\\venv\\lib\\site-packages (from cohere) (0.28.1)\n",
      "Collecting httpx-sse==0.4.0\n",
      "  Downloading httpx_sse-0.4.0-py3-none-any.whl (7.8 kB)\n",
      "Requirement already satisfied: pydantic>=1.9.2 in e:\\llama_index\\venv\\lib\\site-packages (from cohere) (2.11.7)\n",
      "Requirement already satisfied: pydantic-core<3.0.0,>=2.18.2 in e:\\llama_index\\venv\\lib\\site-packages (from cohere) (2.33.2)\n",
      "Collecting types-requests<3.0.0,>=2.0.0\n",
      "  Downloading types_requests-2.32.4.20250611-py3-none-any.whl (20 kB)\n",
      "Requirement already satisfied: anyio in e:\\llama_index\\venv\\lib\\site-packages (from httpx>=0.21.2->cohere) (4.9.0)\n",
      "Requirement already satisfied: certifi in e:\\llama_index\\venv\\lib\\site-packages (from httpx>=0.21.2->cohere) (2025.6.15)\n",
      "Requirement already satisfied: httpcore==1.* in e:\\llama_index\\venv\\lib\\site-packages (from httpx>=0.21.2->cohere) (1.0.9)\n",
      "Requirement already satisfied: idna in e:\\llama_index\\venv\\lib\\site-packages (from httpx>=0.21.2->cohere) (3.10)\n",
      "Requirement already satisfied: h11>=0.16 in e:\\llama_index\\venv\\lib\\site-packages (from httpcore==1.*->httpx>=0.21.2->cohere) (0.16.0)\n",
      "Requirement already satisfied: fsspec>=2023.5.0 in e:\\llama_index\\venv\\lib\\site-packages (from huggingface-hub>=0.20.0->sentence-transformers) (2025.5.1)\n",
      "Requirement already satisfied: openai>=1.14.0 in e:\\llama_index\\venv\\lib\\site-packages (from llama-index-agent-openai<0.5,>=0.4.0->llama-index) (1.92.2)\n",
      "Requirement already satisfied: aiohttp<4,>=3.8.6 in e:\\llama_index\\venv\\lib\\site-packages (from llama-index-core<0.13,>=0.12.44->llama-index) (3.12.13)\n",
      "Requirement already satisfied: aiosqlite in e:\\llama_index\\venv\\lib\\site-packages (from llama-index-core<0.13,>=0.12.44->llama-index) (0.21.0)\n",
      "Requirement already satisfied: banks<3,>=2.0.0 in e:\\llama_index\\venv\\lib\\site-packages (from llama-index-core<0.13,>=0.12.44->llama-index) (2.1.3)\n",
      "Requirement already satisfied: dataclasses-json in e:\\llama_index\\venv\\lib\\site-packages (from llama-index-core<0.13,>=0.12.44->llama-index) (0.6.7)\n",
      "Requirement already satisfied: deprecated>=1.2.9.3 in e:\\llama_index\\venv\\lib\\site-packages (from llama-index-core<0.13,>=0.12.44->llama-index) (1.2.18)\n",
      "Requirement already satisfied: dirtyjson<2,>=1.0.8 in e:\\llama_index\\venv\\lib\\site-packages (from llama-index-core<0.13,>=0.12.44->llama-index) (1.0.8)\n",
      "Requirement already satisfied: filetype<2,>=1.2.0 in e:\\llama_index\\venv\\lib\\site-packages (from llama-index-core<0.13,>=0.12.44->llama-index) (1.2.0)\n",
      "Requirement already satisfied: llama-index-workflows<2,>=1.0.1 in e:\\llama_index\\venv\\lib\\site-packages (from llama-index-core<0.13,>=0.12.44->llama-index) (1.0.1)\n",
      "Requirement already satisfied: nest-asyncio<2,>=1.5.8 in e:\\llama_index\\venv\\lib\\site-packages (from llama-index-core<0.13,>=0.12.44->llama-index) (1.6.0)\n",
      "Requirement already satisfied: networkx>=3.0 in e:\\llama_index\\venv\\lib\\site-packages (from llama-index-core<0.13,>=0.12.44->llama-index) (3.5)\n",
      "Requirement already satisfied: setuptools>=80.9.0 in e:\\llama_index\\venv\\lib\\site-packages (from llama-index-core<0.13,>=0.12.44->llama-index) (80.9.0)\n",
      "Requirement already satisfied: sqlalchemy[asyncio]>=1.4.49 in e:\\llama_index\\venv\\lib\\site-packages (from llama-index-core<0.13,>=0.12.44->llama-index) (2.0.41)\n",
      "Requirement already satisfied: tenacity!=8.4.0,<10.0.0,>=8.2.0 in e:\\llama_index\\venv\\lib\\site-packages (from llama-index-core<0.13,>=0.12.44->llama-index) (9.1.2)\n",
      "Requirement already satisfied: tiktoken>=0.7.0 in e:\\llama_index\\venv\\lib\\site-packages (from llama-index-core<0.13,>=0.12.44->llama-index) (0.9.0)\n",
      "Requirement already satisfied: typing-inspect>=0.8.0 in e:\\llama_index\\venv\\lib\\site-packages (from llama-index-core<0.13,>=0.12.44->llama-index) (0.9.0)\n",
      "Requirement already satisfied: wrapt in e:\\llama_index\\venv\\lib\\site-packages (from llama-index-core<0.13,>=0.12.44->llama-index) (1.17.2)\n",
      "Requirement already satisfied: llama-cloud==0.1.26 in e:\\llama_index\\venv\\lib\\site-packages (from llama-index-indices-managed-llama-cloud>=0.4.0->llama-index) (0.1.26)\n",
      "Requirement already satisfied: beautifulsoup4<5,>=4.12.3 in e:\\llama_index\\venv\\lib\\site-packages (from llama-index-readers-file<0.5,>=0.4.0->llama-index) (4.13.4)\n",
      "Requirement already satisfied: pandas<2.3.0 in e:\\llama_index\\venv\\lib\\site-packages (from llama-index-readers-file<0.5,>=0.4.0->llama-index) (2.2.3)\n",
      "Requirement already satisfied: pypdf<6,>=5.1.0 in e:\\llama_index\\venv\\lib\\site-packages (from llama-index-readers-file<0.5,>=0.4.0->llama-index) (5.6.1)\n",
      "Requirement already satisfied: striprtf<0.0.27,>=0.0.26 in e:\\llama_index\\venv\\lib\\site-packages (from llama-index-readers-file<0.5,>=0.4.0->llama-index) (0.0.26)\n",
      "Requirement already satisfied: llama-parse>=0.5.0 in e:\\llama_index\\venv\\lib\\site-packages (from llama-index-readers-llama-parse>=0.4.0->llama-index) (0.6.34)\n",
      "Requirement already satisfied: click in e:\\llama_index\\venv\\lib\\site-packages (from nltk>3.8.1->llama-index) (8.2.1)\n",
      "Requirement already satisfied: joblib in e:\\llama_index\\venv\\lib\\site-packages (from nltk>3.8.1->llama-index) (1.5.1)\n",
      "Requirement already satisfied: annotated-types>=0.6.0 in e:\\llama_index\\venv\\lib\\site-packages (from pydantic>=1.9.2->cohere) (0.7.0)\n",
      "Requirement already satisfied: typing-inspection>=0.4.0 in e:\\llama_index\\venv\\lib\\site-packages (from pydantic>=1.9.2->cohere) (0.4.1)\n",
      "Requirement already satisfied: charset_normalizer<4,>=2 in e:\\llama_index\\venv\\lib\\site-packages (from requests->transformers) (3.4.2)\n",
      "Requirement already satisfied: urllib3<3,>=1.21.1 in e:\\llama_index\\venv\\lib\\site-packages (from requests->transformers) (2.5.0)\n",
      "Requirement already satisfied: sympy>=1.13.3 in e:\\llama_index\\venv\\lib\\site-packages (from torch>=1.11.0->sentence-transformers) (1.14.0)\n",
      "Requirement already satisfied: jinja2 in e:\\llama_index\\venv\\lib\\site-packages (from torch>=1.11.0->sentence-transformers) (3.1.6)\n",
      "Requirement already satisfied: colorama in e:\\llama_index\\venv\\lib\\site-packages (from tqdm->sentence-transformers) (0.4.6)\n",
      "Requirement already satisfied: threadpoolctl>=3.1.0 in e:\\llama_index\\venv\\lib\\site-packages (from scikit-learn->sentence-transformers) (3.6.0)\n",
      "Requirement already satisfied: aiohappyeyeballs>=2.5.0 in e:\\llama_index\\venv\\lib\\site-packages (from aiohttp<4,>=3.8.6->llama-index-core<0.13,>=0.12.44->llama-index) (2.6.1)\n",
      "Requirement already satisfied: aiosignal>=1.1.2 in e:\\llama_index\\venv\\lib\\site-packages (from aiohttp<4,>=3.8.6->llama-index-core<0.13,>=0.12.44->llama-index) (1.3.2)\n",
      "Requirement already satisfied: attrs>=17.3.0 in e:\\llama_index\\venv\\lib\\site-packages (from aiohttp<4,>=3.8.6->llama-index-core<0.13,>=0.12.44->llama-index) (25.3.0)\n",
      "Requirement already satisfied: frozenlist>=1.1.1 in e:\\llama_index\\venv\\lib\\site-packages (from aiohttp<4,>=3.8.6->llama-index-core<0.13,>=0.12.44->llama-index) (1.7.0)\n",
      "Requirement already satisfied: multidict<7.0,>=4.5 in e:\\llama_index\\venv\\lib\\site-packages (from aiohttp<4,>=3.8.6->llama-index-core<0.13,>=0.12.44->llama-index) (6.6.0)\n",
      "Requirement already satisfied: propcache>=0.2.0 in e:\\llama_index\\venv\\lib\\site-packages (from aiohttp<4,>=3.8.6->llama-index-core<0.13,>=0.12.44->llama-index) (0.3.2)\n",
      "Requirement already satisfied: yarl<2.0,>=1.17.0 in e:\\llama_index\\venv\\lib\\site-packages (from aiohttp<4,>=3.8.6->llama-index-core<0.13,>=0.12.44->llama-index) (1.20.1)\n",
      "Requirement already satisfied: griffe in e:\\llama_index\\venv\\lib\\site-packages (from banks<3,>=2.0.0->llama-index-core<0.13,>=0.12.44->llama-index) (1.7.3)\n",
      "Requirement already satisfied: platformdirs in e:\\llama_index\\venv\\lib\\site-packages (from banks<3,>=2.0.0->llama-index-core<0.13,>=0.12.44->llama-index) (4.3.8)\n",
      "Requirement already satisfied: soupsieve>1.2 in e:\\llama_index\\venv\\lib\\site-packages (from beautifulsoup4<5,>=4.12.3->llama-index-readers-file<0.5,>=0.4.0->llama-index) (2.7)\n",
      "Requirement already satisfied: llama-index-instrumentation>=0.1.0 in e:\\llama_index\\venv\\lib\\site-packages (from llama-index-workflows<2,>=1.0.1->llama-index-core<0.13,>=0.12.44->llama-index) (0.2.0)\n",
      "Requirement already satisfied: llama-cloud-services>=0.6.32 in e:\\llama_index\\venv\\lib\\site-packages (from llama-parse>=0.5.0->llama-index-readers-llama-parse>=0.4.0->llama-index) (0.6.34)\n",
      "Requirement already satisfied: distro<2,>=1.7.0 in e:\\llama_index\\venv\\lib\\site-packages (from openai>=1.14.0->llama-index-agent-openai<0.5,>=0.4.0->llama-index) (1.9.0)\n",
      "Requirement already satisfied: jiter<1,>=0.4.0 in e:\\llama_index\\venv\\lib\\site-packages (from openai>=1.14.0->llama-index-agent-openai<0.5,>=0.4.0->llama-index) (0.10.0)\n",
      "Requirement already satisfied: sniffio in e:\\llama_index\\venv\\lib\\site-packages (from openai>=1.14.0->llama-index-agent-openai<0.5,>=0.4.0->llama-index) (1.3.1)\n",
      "Requirement already satisfied: python-dateutil>=2.8.2 in e:\\llama_index\\venv\\lib\\site-packages (from pandas<2.3.0->llama-index-readers-file<0.5,>=0.4.0->llama-index) (2.9.0.post0)\n",
      "Requirement already satisfied: pytz>=2020.1 in e:\\llama_index\\venv\\lib\\site-packages (from pandas<2.3.0->llama-index-readers-file<0.5,>=0.4.0->llama-index) (2025.2)\n",
      "Requirement already satisfied: tzdata>=2022.7 in e:\\llama_index\\venv\\lib\\site-packages (from pandas<2.3.0->llama-index-readers-file<0.5,>=0.4.0->llama-index) (2025.2)\n",
      "Requirement already satisfied: greenlet>=1 in e:\\llama_index\\venv\\lib\\site-packages (from sqlalchemy[asyncio]>=1.4.49->llama-index-core<0.13,>=0.12.44->llama-index) (3.2.3)\n",
      "Requirement already satisfied: mpmath<1.4,>=1.1.0 in e:\\llama_index\\venv\\lib\\site-packages (from sympy>=1.13.3->torch>=1.11.0->sentence-transformers) (1.3.0)\n",
      "Requirement already satisfied: mypy-extensions>=0.3.0 in e:\\llama_index\\venv\\lib\\site-packages (from typing-inspect>=0.8.0->llama-index-core<0.13,>=0.12.44->llama-index) (1.1.0)\n",
      "Requirement already satisfied: marshmallow<4.0.0,>=3.18.0 in e:\\llama_index\\venv\\lib\\site-packages (from dataclasses-json->llama-index-core<0.13,>=0.12.44->llama-index) (3.26.1)\n",
      "Requirement already satisfied: MarkupSafe>=2.0 in e:\\llama_index\\venv\\lib\\site-packages (from jinja2->torch>=1.11.0->sentence-transformers) (3.0.2)\n",
      "Requirement already satisfied: python-dotenv<2.0.0,>=1.0.1 in e:\\llama_index\\venv\\lib\\site-packages (from llama-cloud-services>=0.6.32->llama-parse>=0.5.0->llama-index-readers-llama-parse>=0.4.0->llama-index) (1.1.1)\n",
      "Requirement already satisfied: six>=1.5 in e:\\llama_index\\venv\\lib\\site-packages (from python-dateutil>=2.8.2->pandas<2.3.0->llama-index-readers-file<0.5,>=0.4.0->llama-index) (1.17.0)\n",
      "Installing collected packages: types-requests, httpx-sse, fastavro, cohere, llama-index-llms-cohere, llama-index-embeddings-cohere\n",
      "  Attempting uninstall: httpx-sse\n",
      "    Found existing installation: httpx-sse 0.4.1\n",
      "    Uninstalling httpx-sse-0.4.1:\n",
      "      Successfully uninstalled httpx-sse-0.4.1\n",
      "Successfully installed cohere-5.15.0 fastavro-1.11.1 httpx-sse-0.4.0 llama-index-embeddings-cohere-0.5.1 llama-index-llms-cohere-0.5.0 types-requests-2.32.4.20250611\n"
     ]
    },
    {
     "name": "stderr",
     "output_type": "stream",
     "text": [
      "\n",
      "[notice] A new release of pip available: 22.3.1 -> 25.1.1\n",
      "[notice] To update, run: python.exe -m pip install --upgrade pip\n"
     ]
    }
   ],
   "source": [
    "!pip install llama-index \\\n",
    "             sentence-transformers \\\n",
    "             transformers \\\n",
    "             cohere \\\n",
    "             llama-index-llms-cohere \\\n",
    "             llama-index-embeddings-cohere\n"
   ]
  },
  {
   "cell_type": "code",
   "execution_count": 50,
   "id": "512b4b2c",
   "metadata": {},
   "outputs": [],
   "source": [
    "from llama_index.core import SimpleDirectoryReader\n",
    "documents = SimpleDirectoryReader(\"data\").load_data()\n"
   ]
  },
  {
   "cell_type": "code",
   "execution_count": 51,
   "id": "5b834918",
   "metadata": {},
   "outputs": [],
   "source": [
    "from llama_index.embeddings.cohere import CohereEmbedding\n",
    "\n",
    "# Replace with your actual Cohere API key\n",
    "cohere_api_key = \"706SqLvA7kuktqALilzbE0ouZKwGmw7IMSvEaY1B\"\n",
    "\n",
    "embed_model = CohereEmbedding(cohere_api_key=cohere_api_key)\n"
   ]
  },
  {
   "cell_type": "code",
   "execution_count": 52,
   "id": "8d05c85f",
   "metadata": {},
   "outputs": [],
   "source": [
    "from llama_index.llms.cohere import Cohere\n",
    "\n",
    "llm = Cohere(\n",
    "    api_key=cohere_api_key,\n",
    "    model=\"command-r-plus\",  # or \"command\", \"command-light\"\n",
    "    temperature=0.3,\n",
    "    max_tokens=128,\n",
    ")\n"
   ]
  },
  {
   "cell_type": "code",
   "execution_count": 53,
   "id": "3913024a",
   "metadata": {},
   "outputs": [],
   "source": [
    "from llama_index.core.settings import Settings\n",
    "\n",
    "Settings.embed_model = embed_model\n",
    "Settings.llm = llm\n"
   ]
  },
  {
   "cell_type": "code",
   "execution_count": 54,
   "id": "1bf6cd6b",
   "metadata": {},
   "outputs": [],
   "source": [
    "from llama_index.embeddings.cohere import CohereEmbedding\n",
    "\n",
    "embed_model = CohereEmbedding(\n",
    "    cohere_api_key=\"706SqLvA7kuktqALilzbE0ouZKwGmw7IMSvEaY1B\",\n",
    "    input_type=\"search_document\",  # this is the fix!\n",
    "    model_name=\"embed-english-v3.0\"\n",
    ")\n"
   ]
  },
  {
   "cell_type": "code",
   "execution_count": 55,
   "id": "85b134c2",
   "metadata": {},
   "outputs": [],
   "source": [
    "from llama_index.core.settings import Settings\n",
    "\n",
    "Settings.embed_model = embed_model\n",
    "Settings.llm = llm\n"
   ]
  },
  {
   "cell_type": "code",
   "execution_count": 56,
   "id": "5cbeeb4f",
   "metadata": {},
   "outputs": [],
   "source": [
    "from llama_index.core import VectorStoreIndex\n",
    "\n",
    "index = VectorStoreIndex.from_documents(documents)\n"
   ]
  },
  {
   "cell_type": "code",
   "execution_count": 75,
   "id": "b449cd81",
   "metadata": {},
   "outputs": [
    {
     "name": "stdout",
     "output_type": "stream",
     "text": [
      "Banker's algorithm is a method used to avoid deadlocks in operating systems and is named after its similarity to the cash allocation practices of banks. It ensures that system resources are allocated efficiently, preventing situations where customer demands cannot be met. This algorithm is essential for memory management, allowing multiple processes to share available memory.\n"
     ]
    }
   ],
   "source": [
    "query_engine = index.as_query_engine(\n",
    "    similarity_top_k=5,                # optional: fetch more context\n",
    "    response_mode=\"tree_summarize\"     # summarizes results into a clean answer\n",
    ")\n",
    "\n",
    "response = query_engine.query(\"tell about banker's algorithm?\")\n",
    "print(response)\n"
   ]
  }
 ],
 "metadata": {
  "kernelspec": {
   "display_name": "venv",
   "language": "python",
   "name": "python3"
  },
  "language_info": {
   "codemirror_mode": {
    "name": "ipython",
    "version": 3
   },
   "file_extension": ".py",
   "mimetype": "text/x-python",
   "name": "python",
   "nbconvert_exporter": "python",
   "pygments_lexer": "ipython3",
   "version": "3.11.2"
  }
 },
 "nbformat": 4,
 "nbformat_minor": 5
}
